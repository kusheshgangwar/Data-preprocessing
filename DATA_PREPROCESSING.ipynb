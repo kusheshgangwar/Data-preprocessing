{
  "nbformat": 4,
  "nbformat_minor": 0,
  "metadata": {
    "colab": {
      "provenance": [],
      "authorship_tag": "ABX9TyNua93AoaDP0O0Nxk3quihK",
      "include_colab_link": true
    },
    "kernelspec": {
      "name": "python3",
      "display_name": "Python 3"
    },
    "language_info": {
      "name": "python"
    }
  },
  "cells": [
    {
      "cell_type": "markdown",
      "metadata": {
        "id": "view-in-github",
        "colab_type": "text"
      },
      "source": [
        "<a href=\"https://colab.research.google.com/github/kusheshgangwar/Data-preprocessing/blob/main/DATA_PREPROCESSING.ipynb\" target=\"_parent\"><img src=\"https://colab.research.google.com/assets/colab-badge.svg\" alt=\"Open In Colab\"/></a>"
      ]
    },
    {
      "cell_type": "code",
      "execution_count": 4,
      "metadata": {
        "id": "ssee6PJY3Oof"
      },
      "outputs": [],
      "source": [
        "import pandas as pd\n",
        "import numpy as np\n",
        "from sklearn.model_selection import train_test_split\n",
        "from sklearn.preprocessing import StandardScaler"
      ]
    },
    {
      "cell_type": "code",
      "source": [
        "# Sample Data (Load your dataset)\n",
        "data = pd.read_csv(\"Data.csv\")\n",
        "df = pd.DataFrame(data)"
      ],
      "metadata": {
        "id": "mFiJSwzS4zvA"
      },
      "execution_count": 5,
      "outputs": []
    },
    {
      "cell_type": "code",
      "source": [
        "# *1. Handle Missing Values* (Fill NaN with mean for numeric columns only)\n",
        "for col in df.select_dtypes(include=np.number).columns: # Iterate through numeric columns only\n",
        "    df[col].fillna(df[col].mean(), inplace=True)  # Fill NaN with mean for current column"
      ],
      "metadata": {
        "colab": {
          "base_uri": "https://localhost:8080/"
        },
        "id": "XIVSUGs644PN",
        "outputId": "c0f90db1-70fa-4c89-8411-2109da40341d"
      },
      "execution_count": 6,
      "outputs": [
        {
          "output_type": "stream",
          "name": "stderr",
          "text": [
            "<ipython-input-6-56a36f8a0d41>:3: FutureWarning: A value is trying to be set on a copy of a DataFrame or Series through chained assignment using an inplace method.\n",
            "The behavior will change in pandas 3.0. This inplace method will never work because the intermediate object on which we are setting values always behaves as a copy.\n",
            "\n",
            "For example, when doing 'df[col].method(value, inplace=True)', try using 'df.method({col: value}, inplace=True)' or df[col] = df[col].method(value) instead, to perform the operation inplace on the original object.\n",
            "\n",
            "\n",
            "  df[col].fillna(df[col].mean(), inplace=True)  # Fill NaN with mean for current column\n"
          ]
        }
      ]
    },
    {
      "cell_type": "code",
      "source": [
        "# *2. Handle Outliers* (Using Z-Score Method)\n",
        "from scipy.stats import zscore\n",
        "df_numeric = df.select_dtypes(include=[np.number])  # Select only numerical columns\n",
        "z_scores = np.abs(zscore(df_numeric))\n",
        "df = df[(z_scores < 3).all(axis=1)]  # Keep only valid data"
      ],
      "metadata": {
        "id": "TO7AdNGP5BMv"
      },
      "execution_count": 7,
      "outputs": []
    },
    {
      "cell_type": "code",
      "source": [
        "# *3. Normalize/Scale Features*\n",
        "scaler = StandardScaler()\n",
        "# Get the actual column names from your DataFrame\n",
        "features_to_scale = df.select_dtypes(include=np.number).columns.tolist()\n",
        "# Remove the target column if it's numerical\n",
        "if 'Target' in features_to_scale:\n",
        "    features_to_scale.remove('Target')\n",
        "\n",
        "# Scale the selected features\n",
        "df[features_to_scale] = scaler.fit_transform(df[features_to_scale])"
      ],
      "metadata": {
        "id": "WVu7S0RH5Pzz"
      },
      "execution_count": 8,
      "outputs": []
    },
    {
      "cell_type": "code",
      "source": [
        "# *4. Split Data into Training & Testing Sets*\n",
        "# Get the actual column names from your DataFrame\n",
        "# Ensure 'target' is the actual name of your target column (case-sensitive)\n",
        "# Convert column names to lowercase to ensure consistency\n",
        "df.columns = df.columns.str.lower()\n",
        "\n",
        "# Check if the target column exists and rename if necessary\n",
        "if 'target' not in df.columns:\n",
        "    # Assuming 'Target' or similar is the original name\n",
        "    # Updated to check for 'segment' column (case-insensitive) based on global variable 'col' and DataFrame preview.\n",
        "    potential_target_columns = [col for col in df.columns if 'segment' in col.lower()]\n",
        "    if potential_target_columns:\n",
        "        df.rename(columns={potential_target_columns[0]: 'target'}, inplace=True)\n",
        "    else:\n",
        "        # Raise an error or handle the case where no target column is found\n",
        "        raise KeyError(\"Target column not found in the DataFrame. Please check your data.\")\n",
        "\n",
        "# Now that the target column is ensured to be 'target' and in lowercase\n",
        "feature_columns = df.drop(columns=['target']).columns.tolist()\n",
        "#... (rest of the code remains the same)\n",
        "\n",
        "# You don't need to convert feature_columns to lowercase again,\n",
        "# as the DataFrame columns are already lowercase.\n",
        "\n",
        "X = df[feature_columns]\n",
        "y = df['target']\n",
        "X_train, X_test, y_train, y_test = train_test_split(X, y, test_size=0.2, random_state=42)"
      ],
      "metadata": {
        "id": "0xn_q3Qj5ape"
      },
      "execution_count": 12,
      "outputs": []
    },
    {
      "cell_type": "code",
      "source": [
        "# *Check Processed Data*\n",
        "print(\"Training Features:\\n\", X_train.head())\n",
        "print(\"Testing Features:\\n\", X_test.head())\n",
        "print(\"Training Labels:\\n\", y_train.head())\n",
        "print(\"Testing Labels:\\n\", y_test.head())"
      ],
      "metadata": {
        "colab": {
          "base_uri": "https://localhost:8080/"
        },
        "id": "qD102s_85hEf",
        "outputId": "fe12e6db-7f0f-4f1e-8aa6-c7689568eaef"
      },
      "execution_count": 13,
      "outputs": [
        {
          "output_type": "stream",
          "name": "stdout",
          "text": [
            "Training Features:\n",
            "                       country    product   discount band   units sold   \\\n",
            "82                     France      Paseo             Low    $2,155.00    \n",
            "51   United States of America   Amarilla            None    $1,143.00    \n",
            "220                    Mexico   Amarilla          Medium    $1,683.00    \n",
            "669                    Mexico    Montana            High      $546.00    \n",
            "545                    France    Montana            High    $1,186.00    \n",
            "\n",
            "     manufacturing price   sale price     gross sales     discounts   \\\n",
            "82                $10.00      $350.00    $7,54,250.00     $7,542.50    \n",
            "51               $260.00        $7.00       $8,001.00          $-      \n",
            "220              $260.00        $7.00      $11,781.00       $589.05    \n",
            "669                $5.00      $300.00    $1,63,800.00    $24,570.00    \n",
            "545                $5.00      $300.00    $3,55,800.00    $42,696.00    \n",
            "\n",
            "             sales            cogs          profit         date  month number  \\\n",
            "82    $7,46,707.50    $5,60,300.00    $1,86,407.50   01/12/2014      1.214848   \n",
            "51       $8,001.00       $5,715.00       $2,286.00   01/10/2014      0.622239   \n",
            "220     $11,191.95       $8,415.00       $2,776.95   01/07/2014     -0.266674   \n",
            "669   $1,39,230.00    $1,36,500.00       $2,730.00   01/10/2014      0.622239   \n",
            "545   $3,13,104.00    $2,96,500.00      $16,604.00   01/12/2013      1.214848   \n",
            "\n",
            "     month name       year  \n",
            "82     December   0.577350  \n",
            "51      October   0.577350  \n",
            "220        July   0.577350  \n",
            "669     October   0.577350  \n",
            "545    December  -1.732051  \n",
            "Testing Features:\n",
            "      country    product   discount band   units sold   manufacturing price   \\\n",
            "158  Germany      Paseo             Low      $689.00                $10.00    \n",
            "500   Mexico        VTT            High    $1,005.00               $250.00    \n",
            "396  Germany   Amarilla          Medium    $1,366.00               $260.00    \n",
            "155   France      Paseo             Low    $2,434.50                $10.00    \n",
            "321   Canada       Velo          Medium    $1,582.00               $120.00    \n",
            "\n",
            "     sale price     gross sales     discounts           sales   \\\n",
            "158     $300.00    $2,06,700.00     $6,201.00    $2,00,499.00    \n",
            "500      $12.00      $12,060.00     $1,326.60      $10,733.40    \n",
            "396      $20.00      $27,320.00     $2,185.60      $25,134.40    \n",
            "155     $300.00    $7,30,350.00    $21,910.50    $7,08,439.50    \n",
            "321       $7.00      $11,074.00       $775.18      $10,298.82    \n",
            "\n",
            "              cogs        profit         date  month number  month name   \\\n",
            "158   $1,72,250.00    $28,249.00   01/06/2014     -0.562978        June    \n",
            "500      $3,015.00     $7,718.40   01/09/2013      0.325935   September    \n",
            "396     $13,660.00    $11,474.40   01/06/2014     -0.562978        June    \n",
            "155   $6,08,625.00    $99,814.50   01/01/2014     -2.044501     January    \n",
            "321      $7,910.00     $2,388.82   01/12/2014      1.214848    December    \n",
            "\n",
            "         year  \n",
            "158  0.577350  \n",
            "500 -1.732051  \n",
            "396  0.577350  \n",
            "155  0.577350  \n",
            "321  0.577350  \n",
            "Training Labels:\n",
            " 82         Government\n",
            "51         Government\n",
            "220        Government\n",
            "669    Small Business\n",
            "545    Small Business\n",
            "Name: target, dtype: object\n",
            "Testing Labels:\n",
            " 158      Small Business\n",
            "500    Channel Partners\n",
            "396          Government\n",
            "155      Small Business\n",
            "321          Government\n",
            "Name: target, dtype: object\n"
          ]
        }
      ]
    }
  ]
}